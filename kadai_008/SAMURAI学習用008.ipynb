{
  "nbformat": 4,
  "nbformat_minor": 0,
  "metadata": {
    "colab": {
      "provenance": []
    },
    "kernelspec": {
      "name": "python3",
      "display_name": "Python 3"
    },
    "language_info": {
      "name": "python"
    }
  },
  "cells": [
    {
      "cell_type": "code",
      "source": [
        "user_names = [\"侍太郎\", \"侍一郎\", \"侍二郎\", \"侍三郎\", \"侍四郎\"]\n",
        "\n",
        "print(user_names[1]) # ２番めの要素だけを表示\n",
        "\n",
        "user_names[1] = \"侍花子\" # ２番めの要素を更新\n",
        "print(user_names)\n",
        "\n",
        "user_names.append(\"侍五郎\") # ６番目の要素を追加\n",
        "print(user_names)\n",
        "\n",
        "user_names.pop(2) # ３番目の要素を削除 (0始まりのため２を指定)\n",
        "print(user_names)"
      ],
      "metadata": {
        "colab": {
          "base_uri": "https://localhost:8080/"
        },
        "id": "w5_KPJfbNw06",
        "outputId": "f314429b-beef-41df-96ba-400afae64583"
      },
      "execution_count": null,
      "outputs": [
        {
          "output_type": "stream",
          "name": "stdout",
          "text": [
            "侍一郎\n",
            "['侍太郎', '侍花子', '侍二郎', '侍三郎', '侍四郎']\n",
            "['侍太郎', '侍花子', '侍二郎', '侍三郎', '侍四郎', '侍五郎']\n",
            "['侍太郎', '侍花子', '侍三郎', '侍四郎', '侍五郎']\n"
          ]
        }
      ]
    },
    {
      "cell_type": "code",
      "source": [],
      "metadata": {
        "id": "bITojlwiN-Pe"
      },
      "execution_count": null,
      "outputs": []
    },
    {
      "cell_type": "code",
      "source": [
        "country_names = (\"日本\",\"アメリカ\",\"イギリス\",\"フランス\")\n",
        "\n",
        "# ３番目の要素を取り出す\n",
        "print(country_names[2])\n",
        "\n",
        "# すべての要素を取り出す\n",
        "print(country_names)"
      ],
      "metadata": {
        "colab": {
          "base_uri": "https://localhost:8080/"
        },
        "id": "FsgkB3jwR-bB",
        "outputId": "f3f3225b-77d4-4825-ce87-cc6ed769715e"
      },
      "execution_count": null,
      "outputs": [
        {
          "output_type": "stream",
          "name": "stdout",
          "text": [
            "イギリス\n",
            "('日本', 'アメリカ', 'イギリス', 'フランス')\n"
          ]
        }
      ]
    },
    {
      "cell_type": "code",
      "source": [
        "country_names = {\"アメリカ\",\"イギリス\",\"日本\",\"フランス\"}\n",
        "\n",
        "# セット全体を表示\n",
        "print(country_names)\n",
        "\n",
        "country_names.add(\"ドイツ\") # 「ドイツ」をセットに追加\n",
        "print(country_names)\n",
        "\n",
        "country_names.remove(\"イギリス\") # セットから「イギリス」を削除\n",
        "print(country_names)"
      ],
      "metadata": {
        "colab": {
          "base_uri": "https://localhost:8080/"
        },
        "id": "HoFhkIR-aesS",
        "outputId": "0f8ed0f0-f684-48c4-9e81-f22b14b4f5bf"
      },
      "execution_count": null,
      "outputs": [
        {
          "output_type": "stream",
          "name": "stdout",
          "text": [
            "{'イギリス', '日本', 'アメリカ', 'フランス'}\n",
            "{'イギリス', 'フランス', '日本', 'ドイツ', 'アメリカ'}\n",
            "{'フランス', '日本', 'ドイツ', 'アメリカ'}\n"
          ]
        }
      ]
    },
    {
      "cell_type": "code",
      "source": [
        "# 連想配列を作成\n",
        "personal_data = {\"name\": \"侍太郎\", \"age\": 36, \"gender\": \"男性\"}\n",
        "\n",
        "# キー「name」の値を表示\n",
        "print(personal_data[\"name\"])\n",
        "\n",
        "# 連想配列全体を表示\n",
        "print(personal_data)\n",
        "\n",
        "# キー「age」の値を更新\n",
        "personal_data[\"age\"] = 37\n",
        "\n",
        "# 新しく要素（キーと価）を追加\n",
        "personal_data[\"address\"] = \"東京都\"\n",
        "\n",
        "# 連想配列全体を表示\n",
        "print(personal_data)"
      ],
      "metadata": {
        "colab": {
          "base_uri": "https://localhost:8080/"
        },
        "id": "rn-VU3kVkdrq",
        "outputId": "2556bff0-6e35-465b-c91c-c2d5e0db2bfc"
      },
      "execution_count": null,
      "outputs": [
        {
          "output_type": "stream",
          "name": "stdout",
          "text": [
            "侍太郎\n",
            "{'name': '侍太郎', 'age': 36, 'gender': '男性'}\n",
            "{'name': '侍太郎', 'age': 37, 'gender': '男性', 'address': '東京都'}\n"
          ]
        }
      ]
    },
    {
      "cell_type": "code",
      "source": [
        "# \"array\" リストを作成\n",
        "array = [\"月曜日は晴れです\", \"火曜日は雨です\", \"水曜日は晴れです\", \"木曜日は晴れです\", \"金曜日は曇りです\", \"土曜日は曇りのち雨です\", \"日曜日は雷雨です\"]\n",
        "# array[2]の要素を表示\n",
        "print(array[2])\n",
        "\n",
        "# \"dicitionary\" を作成\n",
        "dictionary = {\"mon\": \"晴れ\",\"tue\": \"雨\",\"wed\": \"晴れ\",\"thu\": \"晴れ\", \"fri\": \"曇り\", \"sat\": \"曇りのち晴れ\", \"sun\": \"雷雨\"}\n",
        "# wedの天気を取り出して表示\n",
        "print(dictionary[\"wed\"])\n"
      ],
      "metadata": {
        "colab": {
          "base_uri": "https://localhost:8080/"
        },
        "id": "B9OgTwOKpZE2",
        "outputId": "35ab7acb-4fdd-401e-99cb-9dd5d53f11da"
      },
      "execution_count": null,
      "outputs": [
        {
          "output_type": "stream",
          "name": "stdout",
          "text": [
            "水曜日は晴れです\n",
            "晴れ\n"
          ]
        }
      ]
    },
    {
      "cell_type": "code",
      "source": [
        "#ランダムな整数を利用するために、tamdom モジュールをインポート\n",
        "import random\n",
        "\n",
        "# 変数varにランダムな整数を代入する\n",
        "var = random.randint(1,100)\n",
        "\n",
        "# 変数varの値が、3の倍数と5の倍数の両方に該当する場合は「FizzBuzz」を出力\n",
        "if var % 3 == 0 and var % 5 == 0:\n",
        "  print(\"FizzBuzz\")\n",
        "\n",
        "# 変数varの値が3の倍数であれば、「Fizz」と出力\n",
        "elif var % 3 == 0:\n",
        "  print(\"Fizz\")\n",
        "\n",
        "# 変数varの値が５の倍数であれば、「Buzz」と出力\n",
        "elif var % 5 == 0:\n",
        "  print(\"Buzz\")\n",
        "\n",
        "# 上記のどの場合にも該当しない場合は、変数varの値を出力\n",
        "else:\n",
        "  print(var)"
      ],
      "metadata": {
        "colab": {
          "base_uri": "https://localhost:8080/"
        },
        "id": "fAgMd5vRN_3g",
        "outputId": "42dc0238-2c95-48db-b003-1917c84a4816"
      },
      "execution_count": 71,
      "outputs": [
        {
          "output_type": "stream",
          "name": "stdout",
          "text": [
            "7\n"
          ]
        }
      ]
    }
  ]
}